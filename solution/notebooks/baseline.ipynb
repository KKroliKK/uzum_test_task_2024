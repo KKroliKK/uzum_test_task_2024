{
 "cells": [
  {
   "cell_type": "code",
   "execution_count": null,
   "metadata": {},
   "outputs": [],
   "source": [
    "import fasttext\n",
    "\n",
    "# Load the pre-trained language identification model\n",
    "model_path = '/path/to/pretrained_model.bin'  # Replace with the path to your downloaded model\n",
    "model = fasttext.load_model(model_path)\n",
    "\n",
    "# Text for language identification\n",
    "text = \"Вас с морем соли\"\n",
    "\n",
    "# Predict the language\n",
    "predicted_language = model.predict(text, k=1)  # k=1 means only top 1 prediction will be returned\n",
    "language_code = predicted_language[0][0].split('__label__')[1]\n",
    "\n",
    "print(\"Predicted Language Code:\", language_code)\n"
   ]
  }
 ],
 "metadata": {
  "language_info": {
   "name": "python"
  },
  "orig_nbformat": 4
 },
 "nbformat": 4,
 "nbformat_minor": 2
}
