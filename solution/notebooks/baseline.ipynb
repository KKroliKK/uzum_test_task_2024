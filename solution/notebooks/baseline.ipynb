{
 "cells": [
  {
   "cell_type": "markdown",
   "metadata": {},
   "source": [
    "# Imports"
   ]
  },
  {
   "cell_type": "code",
   "execution_count": 1,
   "metadata": {},
   "outputs": [],
   "source": [
    "import os\n",
    "import pickle\n",
    "\n",
    "import pandas as pd\n",
    "import numpy as np\n",
    "from catboost import CatBoostClassifier\n",
    "\n",
    "os.chdir(os.path.join(\"..\", \"..\"))\n",
    "\n",
    "from solution.constants import (\n",
    "    REVIEWS_PATH,\n",
    "    PRODUCTS_PATH,\n",
    "    RETURN_REASONS_PATH,\n",
    "    RETURNS_PATH,\n",
    "    TEST_PATH,\n",
    "    BAD_REVIEWS_GROUPED_BY_PRODUCT_ID,\n",
    ")\n",
    "from solution.fasttext import embed_sentences\n",
    "from solution.train import train_valid_test_split"
   ]
  },
  {
   "cell_type": "code",
   "execution_count": 15,
   "metadata": {},
   "outputs": [],
   "source": [
    "from catboost import CatBoostClassifier\n"
   ]
  },
  {
   "cell_type": "markdown",
   "metadata": {},
   "source": [
    "# Load embeddings"
   ]
  },
  {
   "cell_type": "code",
   "execution_count": 2,
   "metadata": {},
   "outputs": [],
   "source": [
    "with open(BAD_REVIEWS_GROUPED_BY_PRODUCT_ID, 'rb') as f:\n",
    "    bad_reviews_embs_by_id = pickle.load(f)"
   ]
  },
  {
   "cell_type": "code",
   "execution_count": 3,
   "metadata": {},
   "outputs": [],
   "source": [
    "products_with_reviews = set(bad_reviews_embs_by_id.keys())"
   ]
  },
  {
   "cell_type": "markdown",
   "metadata": {},
   "source": [
    "# Load reviews"
   ]
  },
  {
   "cell_type": "code",
   "execution_count": 4,
   "metadata": {},
   "outputs": [
    {
     "data": {
      "text/html": [
       "<div>\n",
       "<style scoped>\n",
       "    .dataframe tbody tr th:only-of-type {\n",
       "        vertical-align: middle;\n",
       "    }\n",
       "\n",
       "    .dataframe tbody tr th {\n",
       "        vertical-align: top;\n",
       "    }\n",
       "\n",
       "    .dataframe thead th {\n",
       "        text-align: right;\n",
       "    }\n",
       "</style>\n",
       "<table border=\"1\" class=\"dataframe\">\n",
       "  <thead>\n",
       "    <tr style=\"text-align: right;\">\n",
       "      <th></th>\n",
       "      <th>id</th>\n",
       "      <th>product_id</th>\n",
       "      <th>cause</th>\n",
       "      <th>comment</th>\n",
       "      <th>date_created</th>\n",
       "      <th>order_item_id</th>\n",
       "      <th>customer_id</th>\n",
       "      <th>purchase_price</th>\n",
       "    </tr>\n",
       "    <tr>\n",
       "      <th>index</th>\n",
       "      <th></th>\n",
       "      <th></th>\n",
       "      <th></th>\n",
       "      <th></th>\n",
       "      <th></th>\n",
       "      <th></th>\n",
       "      <th></th>\n",
       "      <th></th>\n",
       "    </tr>\n",
       "  </thead>\n",
       "  <tbody>\n",
       "    <tr>\n",
       "      <th>204889</th>\n",
       "      <td>2568378</td>\n",
       "      <td>9263ca5ce2a899e383b26ec065a67801fbdf37cb3b4bb6...</td>\n",
       "      <td>WRONG_SIZE</td>\n",
       "      <td>очень большой</td>\n",
       "      <td>2023-10-10 13:14:23.047</td>\n",
       "      <td>18803819</td>\n",
       "      <td>961bf42455279bf5478e4e45d44ff27710933c042beb44...</td>\n",
       "      <td>420000</td>\n",
       "    </tr>\n",
       "    <tr>\n",
       "      <th>262036</th>\n",
       "      <td>3506959</td>\n",
       "      <td>b09aa725541965bc862a5ccacf7b0699b3a0cf214717c1...</td>\n",
       "      <td>WRONG_SIZE</td>\n",
       "      <td>размер не подошел</td>\n",
       "      <td>2023-11-24 12:32:18.933</td>\n",
       "      <td>24306601</td>\n",
       "      <td>11272697e45ecc3bd93911b433256e492d63fb6da48b88...</td>\n",
       "      <td>570000</td>\n",
       "    </tr>\n",
       "    <tr>\n",
       "      <th>71357</th>\n",
       "      <td>803150</td>\n",
       "      <td>912b3eee79cdfcbac6c0eb38e43b7eff13afa6a5e9fa22...</td>\n",
       "      <td>WRONG_SIZE</td>\n",
       "      <td>мал</td>\n",
       "      <td>2023-06-07 12:46:53.889</td>\n",
       "      <td>6983799</td>\n",
       "      <td>338707705751a6d1177d3d608175ca876c285540ec3bc1...</td>\n",
       "      <td>175000</td>\n",
       "    </tr>\n",
       "    <tr>\n",
       "      <th>103887</th>\n",
       "      <td>1224841</td>\n",
       "      <td>8fd87a06a4e088880af8338506f838e2ffc00db068c840...</td>\n",
       "      <td>DEFECTED</td>\n",
       "      <td>НЕТ ПОДКЛЮЧЕНИЯ</td>\n",
       "      <td>2023-07-13 08:56:31.806</td>\n",
       "      <td>9818976</td>\n",
       "      <td>0837e3b680b9c33aca9460e6798982573c2b06449ced2b...</td>\n",
       "      <td>29000</td>\n",
       "    </tr>\n",
       "    <tr>\n",
       "      <th>132492</th>\n",
       "      <td>1596257</td>\n",
       "      <td>ab888907afbbe1cab42fe956971e519605ffc1fe534a6d...</td>\n",
       "      <td>WRONG_SIZE</td>\n",
       "      <td>размер не подашло</td>\n",
       "      <td>2023-08-10 12:40:40.239</td>\n",
       "      <td>12312889</td>\n",
       "      <td>c76394093cb1a69ae6e78bc9e478aa081aae55ee5441c0...</td>\n",
       "      <td>44000</td>\n",
       "    </tr>\n",
       "  </tbody>\n",
       "</table>\n",
       "</div>"
      ],
      "text/plain": [
       "             id                                         product_id  \\\n",
       "index                                                                \n",
       "204889  2568378  9263ca5ce2a899e383b26ec065a67801fbdf37cb3b4bb6...   \n",
       "262036  3506959  b09aa725541965bc862a5ccacf7b0699b3a0cf214717c1...   \n",
       "71357    803150  912b3eee79cdfcbac6c0eb38e43b7eff13afa6a5e9fa22...   \n",
       "103887  1224841  8fd87a06a4e088880af8338506f838e2ffc00db068c840...   \n",
       "132492  1596257  ab888907afbbe1cab42fe956971e519605ffc1fe534a6d...   \n",
       "\n",
       "             cause            comment            date_created  order_item_id  \\\n",
       "index                                                                          \n",
       "204889  WRONG_SIZE      очень большой 2023-10-10 13:14:23.047       18803819   \n",
       "262036  WRONG_SIZE  размер не подошел 2023-11-24 12:32:18.933       24306601   \n",
       "71357   WRONG_SIZE                мал 2023-06-07 12:46:53.889        6983799   \n",
       "103887    DEFECTED    НЕТ ПОДКЛЮЧЕНИЯ 2023-07-13 08:56:31.806        9818976   \n",
       "132492  WRONG_SIZE  размер не подашло 2023-08-10 12:40:40.239       12312889   \n",
       "\n",
       "                                              customer_id  purchase_price  \n",
       "index                                                                      \n",
       "204889  961bf42455279bf5478e4e45d44ff27710933c042beb44...          420000  \n",
       "262036  11272697e45ecc3bd93911b433256e492d63fb6da48b88...          570000  \n",
       "71357   338707705751a6d1177d3d608175ca876c285540ec3bc1...          175000  \n",
       "103887  0837e3b680b9c33aca9460e6798982573c2b06449ced2b...           29000  \n",
       "132492  c76394093cb1a69ae6e78bc9e478aa081aae55ee5441c0...           44000  "
      ]
     },
     "execution_count": 4,
     "metadata": {},
     "output_type": "execute_result"
    }
   ],
   "source": [
    "returns_df = pd.read_parquet(RETURNS_PATH)\n",
    "returns_df.sample(5)"
   ]
  },
  {
   "cell_type": "code",
   "execution_count": 5,
   "metadata": {},
   "outputs": [
    {
     "data": {
      "text/plain": [
       "(282141, 8)"
      ]
     },
     "execution_count": 5,
     "metadata": {},
     "output_type": "execute_result"
    }
   ],
   "source": [
    "returns_df.shape"
   ]
  },
  {
   "cell_type": "code",
   "execution_count": 6,
   "metadata": {},
   "outputs": [
    {
     "data": {
      "text/plain": [
       "(197301, 8)"
      ]
     },
     "execution_count": 6,
     "metadata": {},
     "output_type": "execute_result"
    }
   ],
   "source": [
    "returns_with_reviews_df = returns_df[returns_df.product_id.isin(products_with_reviews)]\n",
    "returns_with_reviews_df.shape"
   ]
  },
  {
   "cell_type": "markdown",
   "metadata": {},
   "source": [
    "# Prepare dataset"
   ]
  },
  {
   "cell_type": "code",
   "execution_count": 7,
   "metadata": {},
   "outputs": [],
   "source": [
    "returns_with_reviews_df_splitted = train_valid_test_split(df=returns_with_reviews_df, val_size=0.15, test_size=0.15, stratify_col=\"cause\")"
   ]
  },
  {
   "cell_type": "code",
   "execution_count": 9,
   "metadata": {},
   "outputs": [
    {
     "data": {
      "text/html": [
       "<div>\n",
       "<style scoped>\n",
       "    .dataframe tbody tr th:only-of-type {\n",
       "        vertical-align: middle;\n",
       "    }\n",
       "\n",
       "    .dataframe tbody tr th {\n",
       "        vertical-align: top;\n",
       "    }\n",
       "\n",
       "    .dataframe thead th {\n",
       "        text-align: right;\n",
       "    }\n",
       "</style>\n",
       "<table border=\"1\" class=\"dataframe\">\n",
       "  <thead>\n",
       "    <tr style=\"text-align: right;\">\n",
       "      <th></th>\n",
       "      <th>id</th>\n",
       "      <th>product_id</th>\n",
       "      <th>cause</th>\n",
       "      <th>comment</th>\n",
       "      <th>date_created</th>\n",
       "      <th>order_item_id</th>\n",
       "      <th>customer_id</th>\n",
       "      <th>purchase_price</th>\n",
       "      <th>train</th>\n",
       "      <th>valid</th>\n",
       "      <th>test</th>\n",
       "    </tr>\n",
       "    <tr>\n",
       "      <th>index</th>\n",
       "      <th></th>\n",
       "      <th></th>\n",
       "      <th></th>\n",
       "      <th></th>\n",
       "      <th></th>\n",
       "      <th></th>\n",
       "      <th></th>\n",
       "      <th></th>\n",
       "      <th></th>\n",
       "      <th></th>\n",
       "      <th></th>\n",
       "    </tr>\n",
       "  </thead>\n",
       "  <tbody>\n",
       "    <tr>\n",
       "      <th>0</th>\n",
       "      <td>69138</td>\n",
       "      <td>6a1a7601fac958ee967c73fe19315db8f6cdc3f1cd8370...</td>\n",
       "      <td>DEFECTED</td>\n",
       "      <td>брак</td>\n",
       "      <td>2023-01-02 05:37:33.846</td>\n",
       "      <td>588140</td>\n",
       "      <td>b4465ede5691891836ccc432bb8c49e1537b1d0a74f721...</td>\n",
       "      <td>106000</td>\n",
       "      <td>True</td>\n",
       "      <td>False</td>\n",
       "      <td>False</td>\n",
       "    </tr>\n",
       "    <tr>\n",
       "      <th>1</th>\n",
       "      <td>69148</td>\n",
       "      <td>7cab221310edf5f3c75fc38259bcb7640d080b4b05d5bb...</td>\n",
       "      <td>PHOTO_MISMATCH</td>\n",
       "      <td>думала больше</td>\n",
       "      <td>2023-01-02 05:44:34.432</td>\n",
       "      <td>773695</td>\n",
       "      <td>9bf74458174dd9c039ee6317fd48b356e8fc146f23c60b...</td>\n",
       "      <td>23000</td>\n",
       "      <td>False</td>\n",
       "      <td>True</td>\n",
       "      <td>False</td>\n",
       "    </tr>\n",
       "    <tr>\n",
       "      <th>2</th>\n",
       "      <td>69154</td>\n",
       "      <td>728611508a21a9214f2c8cc076d21e30046ec5c59bf359...</td>\n",
       "      <td>DEFECTED</td>\n",
       "      <td>брак</td>\n",
       "      <td>2023-01-02 05:45:31.277</td>\n",
       "      <td>695067</td>\n",
       "      <td>0a185871d03ee346b71b657d3fbaebfc35823fec2861f7...</td>\n",
       "      <td>390000</td>\n",
       "      <td>True</td>\n",
       "      <td>False</td>\n",
       "      <td>False</td>\n",
       "    </tr>\n",
       "    <tr>\n",
       "      <th>3</th>\n",
       "      <td>69161</td>\n",
       "      <td>f4f4031321f9b7cf1175fc6d363769297334ddd76aa2eb...</td>\n",
       "      <td>WRONG_ITEM</td>\n",
       "      <td>не тот товар</td>\n",
       "      <td>2023-01-02 05:57:35.652</td>\n",
       "      <td>635687</td>\n",
       "      <td>1123ce2b71eb64c572e6de0e14a723c17a55f67748327d...</td>\n",
       "      <td>71000</td>\n",
       "      <td>False</td>\n",
       "      <td>True</td>\n",
       "      <td>False</td>\n",
       "    </tr>\n",
       "    <tr>\n",
       "      <th>5</th>\n",
       "      <td>69178</td>\n",
       "      <td>5d4a48095318f551b67ef51c208282a339440aa92af602...</td>\n",
       "      <td>WRONG_SIZE</td>\n",
       "      <td>Не тот размер</td>\n",
       "      <td>2023-01-02 06:06:54.296</td>\n",
       "      <td>704331</td>\n",
       "      <td>ee8bd56b1a873f958b0e83fc68a72da22e431cfde8cefe...</td>\n",
       "      <td>35000</td>\n",
       "      <td>True</td>\n",
       "      <td>False</td>\n",
       "      <td>False</td>\n",
       "    </tr>\n",
       "  </tbody>\n",
       "</table>\n",
       "</div>"
      ],
      "text/plain": [
       "          id                                         product_id  \\\n",
       "index                                                             \n",
       "0      69138  6a1a7601fac958ee967c73fe19315db8f6cdc3f1cd8370...   \n",
       "1      69148  7cab221310edf5f3c75fc38259bcb7640d080b4b05d5bb...   \n",
       "2      69154  728611508a21a9214f2c8cc076d21e30046ec5c59bf359...   \n",
       "3      69161  f4f4031321f9b7cf1175fc6d363769297334ddd76aa2eb...   \n",
       "5      69178  5d4a48095318f551b67ef51c208282a339440aa92af602...   \n",
       "\n",
       "                cause         comment            date_created  order_item_id  \\\n",
       "index                                                                          \n",
       "0            DEFECTED            брак 2023-01-02 05:37:33.846         588140   \n",
       "1      PHOTO_MISMATCH  думала больше  2023-01-02 05:44:34.432         773695   \n",
       "2            DEFECTED            брак 2023-01-02 05:45:31.277         695067   \n",
       "3          WRONG_ITEM    не тот товар 2023-01-02 05:57:35.652         635687   \n",
       "5          WRONG_SIZE   Не тот размер 2023-01-02 06:06:54.296         704331   \n",
       "\n",
       "                                             customer_id  purchase_price  \\\n",
       "index                                                                      \n",
       "0      b4465ede5691891836ccc432bb8c49e1537b1d0a74f721...          106000   \n",
       "1      9bf74458174dd9c039ee6317fd48b356e8fc146f23c60b...           23000   \n",
       "2      0a185871d03ee346b71b657d3fbaebfc35823fec2861f7...          390000   \n",
       "3      1123ce2b71eb64c572e6de0e14a723c17a55f67748327d...           71000   \n",
       "5      ee8bd56b1a873f958b0e83fc68a72da22e431cfde8cefe...           35000   \n",
       "\n",
       "       train  valid   test  \n",
       "index                       \n",
       "0       True  False  False  \n",
       "1      False   True  False  \n",
       "2       True  False  False  \n",
       "3      False   True  False  \n",
       "5       True  False  False  "
      ]
     },
     "execution_count": 9,
     "metadata": {},
     "output_type": "execute_result"
    }
   ],
   "source": [
    "returns_with_reviews_df_splitted.head()"
   ]
  },
  {
   "cell_type": "code",
   "execution_count": 13,
   "metadata": {},
   "outputs": [],
   "source": [
    "train_products_ids = returns_with_reviews_df_splitted[[\"product_id\", \"cause\"]][returns_with_reviews_df_splitted.train]"
   ]
  },
  {
   "cell_type": "code",
   "execution_count": 14,
   "metadata": {},
   "outputs": [
    {
     "data": {
      "text/html": [
       "<div>\n",
       "<style scoped>\n",
       "    .dataframe tbody tr th:only-of-type {\n",
       "        vertical-align: middle;\n",
       "    }\n",
       "\n",
       "    .dataframe tbody tr th {\n",
       "        vertical-align: top;\n",
       "    }\n",
       "\n",
       "    .dataframe thead th {\n",
       "        text-align: right;\n",
       "    }\n",
       "</style>\n",
       "<table border=\"1\" class=\"dataframe\">\n",
       "  <thead>\n",
       "    <tr style=\"text-align: right;\">\n",
       "      <th></th>\n",
       "      <th>product_id</th>\n",
       "      <th>cause</th>\n",
       "    </tr>\n",
       "    <tr>\n",
       "      <th>index</th>\n",
       "      <th></th>\n",
       "      <th></th>\n",
       "    </tr>\n",
       "  </thead>\n",
       "  <tbody>\n",
       "    <tr>\n",
       "      <th>0</th>\n",
       "      <td>6a1a7601fac958ee967c73fe19315db8f6cdc3f1cd8370...</td>\n",
       "      <td>DEFECTED</td>\n",
       "    </tr>\n",
       "    <tr>\n",
       "      <th>2</th>\n",
       "      <td>728611508a21a9214f2c8cc076d21e30046ec5c59bf359...</td>\n",
       "      <td>DEFECTED</td>\n",
       "    </tr>\n",
       "    <tr>\n",
       "      <th>5</th>\n",
       "      <td>5d4a48095318f551b67ef51c208282a339440aa92af602...</td>\n",
       "      <td>WRONG_SIZE</td>\n",
       "    </tr>\n",
       "    <tr>\n",
       "      <th>8</th>\n",
       "      <td>48b99e8820665207789fcc460ad4306bfa65107752610a...</td>\n",
       "      <td>WRONG_SIZE</td>\n",
       "    </tr>\n",
       "    <tr>\n",
       "      <th>9</th>\n",
       "      <td>f3daad81298c1983cdc886ef042213345bfcb56ae2f2ee...</td>\n",
       "      <td>DEFECTED</td>\n",
       "    </tr>\n",
       "    <tr>\n",
       "      <th>...</th>\n",
       "      <td>...</td>\n",
       "      <td>...</td>\n",
       "    </tr>\n",
       "    <tr>\n",
       "      <th>282123</th>\n",
       "      <td>4c76c0a14fcfb8d66083a56bdbbc914d2407b2a30008be...</td>\n",
       "      <td>WRONG_SIZE</td>\n",
       "    </tr>\n",
       "    <tr>\n",
       "      <th>282126</th>\n",
       "      <td>e11c92888d1b1615e668d4470da189ababd82183b6384f...</td>\n",
       "      <td>DEFECTED</td>\n",
       "    </tr>\n",
       "    <tr>\n",
       "      <th>282132</th>\n",
       "      <td>1882807554859d663b1b1629546d9fd772f971df1188cb...</td>\n",
       "      <td>BAD_QUALITY</td>\n",
       "    </tr>\n",
       "    <tr>\n",
       "      <th>282134</th>\n",
       "      <td>4f3e95a420d43c99ffa1ce5ef76eb8f94310d5b5500dcf...</td>\n",
       "      <td>WRONG_SIZE</td>\n",
       "    </tr>\n",
       "    <tr>\n",
       "      <th>282138</th>\n",
       "      <td>12b1f9e8aae75148696978bb1f4455dd8cf25575e7977c...</td>\n",
       "      <td>WRONG_SIZE</td>\n",
       "    </tr>\n",
       "  </tbody>\n",
       "</table>\n",
       "<p>138109 rows × 2 columns</p>\n",
       "</div>"
      ],
      "text/plain": [
       "                                               product_id        cause\n",
       "index                                                                 \n",
       "0       6a1a7601fac958ee967c73fe19315db8f6cdc3f1cd8370...     DEFECTED\n",
       "2       728611508a21a9214f2c8cc076d21e30046ec5c59bf359...     DEFECTED\n",
       "5       5d4a48095318f551b67ef51c208282a339440aa92af602...   WRONG_SIZE\n",
       "8       48b99e8820665207789fcc460ad4306bfa65107752610a...   WRONG_SIZE\n",
       "9       f3daad81298c1983cdc886ef042213345bfcb56ae2f2ee...     DEFECTED\n",
       "...                                                   ...          ...\n",
       "282123  4c76c0a14fcfb8d66083a56bdbbc914d2407b2a30008be...   WRONG_SIZE\n",
       "282126  e11c92888d1b1615e668d4470da189ababd82183b6384f...     DEFECTED\n",
       "282132  1882807554859d663b1b1629546d9fd772f971df1188cb...  BAD_QUALITY\n",
       "282134  4f3e95a420d43c99ffa1ce5ef76eb8f94310d5b5500dcf...   WRONG_SIZE\n",
       "282138  12b1f9e8aae75148696978bb1f4455dd8cf25575e7977c...   WRONG_SIZE\n",
       "\n",
       "[138109 rows x 2 columns]"
      ]
     },
     "execution_count": 14,
     "metadata": {},
     "output_type": "execute_result"
    }
   ],
   "source": [
    "train_products_ids"
   ]
  },
  {
   "cell_type": "code",
   "execution_count": 19,
   "metadata": {},
   "outputs": [
    {
     "data": {
      "text/plain": [
       "(138109, 300)"
      ]
     },
     "execution_count": 19,
     "metadata": {},
     "output_type": "execute_result"
    }
   ],
   "source": [
    "y_train = train_products_ids.cause\n",
    "\n",
    "x_train = []\n",
    "for product_id in train_products_ids.product_id:\n",
    "    x_train.append(bad_reviews_embs_by_id[product_id])\n",
    "\n",
    "x_train = np.array(x_train)\n",
    "x_train.shape"
   ]
  },
  {
   "cell_type": "code",
   "execution_count": 20,
   "metadata": {},
   "outputs": [
    {
     "data": {
      "text/plain": [
       "(29596, 300)"
      ]
     },
     "execution_count": 20,
     "metadata": {},
     "output_type": "execute_result"
    }
   ],
   "source": [
    "valid_products_ids = returns_with_reviews_df_splitted[[\"product_id\", \"cause\"]][returns_with_reviews_df_splitted.valid]\n",
    "\n",
    "y_valid = valid_products_ids.cause\n",
    "\n",
    "x_valid = []\n",
    "for product_id in valid_products_ids.product_id:\n",
    "    x_valid.append(bad_reviews_embs_by_id[product_id])\n",
    "\n",
    "x_valid = np.array(x_valid)\n",
    "x_valid.shape"
   ]
  },
  {
   "cell_type": "code",
   "execution_count": 21,
   "metadata": {},
   "outputs": [
    {
     "data": {
      "text/plain": [
       "(29596, 300)"
      ]
     },
     "execution_count": 21,
     "metadata": {},
     "output_type": "execute_result"
    }
   ],
   "source": [
    "test_products_ids = returns_with_reviews_df_splitted[[\"product_id\", \"cause\"]][returns_with_reviews_df_splitted.test]\n",
    "\n",
    "y_test = test_products_ids.cause\n",
    "\n",
    "x_test = []\n",
    "for product_id in test_products_ids.product_id:\n",
    "    x_test.append(bad_reviews_embs_by_id[product_id])\n",
    "\n",
    "x_test = np.array(x_test)\n",
    "x_test.shape"
   ]
  },
  {
   "cell_type": "markdown",
   "metadata": {},
   "source": [
    "# Training"
   ]
  },
  {
   "cell_type": "code",
   "execution_count": null,
   "metadata": {},
   "outputs": [],
   "source": []
  }
 ],
 "metadata": {
  "kernelspec": {
   "display_name": "base",
   "language": "python",
   "name": "python3"
  },
  "language_info": {
   "codemirror_mode": {
    "name": "ipython",
    "version": 3
   },
   "file_extension": ".py",
   "mimetype": "text/x-python",
   "name": "python",
   "nbconvert_exporter": "python",
   "pygments_lexer": "ipython3",
   "version": "3.11.5"
  },
  "orig_nbformat": 4
 },
 "nbformat": 4,
 "nbformat_minor": 2
}
