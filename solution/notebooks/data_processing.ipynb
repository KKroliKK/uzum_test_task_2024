{
 "cells": [
  {
   "cell_type": "markdown",
   "metadata": {},
   "source": [
    "# Импорты"
   ]
  },
  {
   "cell_type": "code",
   "execution_count": 1,
   "metadata": {},
   "outputs": [],
   "source": [
    "import os\n",
    "import sys\n",
    "import json\n",
    "\n",
    "import pandas as pd\n",
    "\n",
    "os.chdir(os.path.join(\"..\", \"..\"))\n",
    "\n",
    "from solution.constants import REVIEWS_PATH, PRODUCTS_PATH, RETURN_REASONS_PATH, RETURNS_PATH, TEST_PATH"
   ]
  },
  {
   "cell_type": "markdown",
   "metadata": {},
   "source": [
    "# Загрузка данных"
   ]
  },
  {
   "cell_type": "markdown",
   "metadata": {},
   "source": [
    "## Products"
   ]
  },
  {
   "cell_type": "code",
   "execution_count": 2,
   "metadata": {},
   "outputs": [
    {
     "data": {
      "text/html": [
       "<div>\n",
       "<style scoped>\n",
       "    .dataframe tbody tr th:only-of-type {\n",
       "        vertical-align: middle;\n",
       "    }\n",
       "\n",
       "    .dataframe tbody tr th {\n",
       "        vertical-align: top;\n",
       "    }\n",
       "\n",
       "    .dataframe thead th {\n",
       "        text-align: right;\n",
       "    }\n",
       "</style>\n",
       "<table border=\"1\" class=\"dataframe\">\n",
       "  <thead>\n",
       "    <tr style=\"text-align: right;\">\n",
       "      <th></th>\n",
       "      <th>product_id</th>\n",
       "      <th>category_id</th>\n",
       "      <th>category_title</th>\n",
       "      <th>product_description</th>\n",
       "    </tr>\n",
       "  </thead>\n",
       "  <tbody>\n",
       "    <tr>\n",
       "      <th>62550</th>\n",
       "      <td>6fc4b4ad986ae1c894d64c637755dbd0af55c5c18ea58d...</td>\n",
       "      <td>5047c52df0613016fb90e7042f93f8981bb6cb5825727c...</td>\n",
       "      <td>Головоломки</td>\n",
       "      <td>b'{\"ru\":\"\\\\u041c\\\\u0430\\\\u0442\\\\u0435\\\\u043c\\\\...</td>\n",
       "    </tr>\n",
       "    <tr>\n",
       "      <th>70951</th>\n",
       "      <td>ff6824e8aa9eb77ba1a7a13c27dd9a127af7921071c9a0...</td>\n",
       "      <td>480a98886cc4530fd8c1f888ff71fc23213be3d120eba2...</td>\n",
       "      <td>Маски тканевые</td>\n",
       "      <td>b'{\"ru\":\"\\\\u041c\\\\u0430\\\\u0441\\\\u043a\\\\u0430 \\...</td>\n",
       "    </tr>\n",
       "    <tr>\n",
       "      <th>15986</th>\n",
       "      <td>5560f79506a7f8b0f2ada8555e1467dad8a7561548aeb0...</td>\n",
       "      <td>76a6e0d29167a15261b5b82424f4ef392f0a2ce49c4a0e...</td>\n",
       "      <td>Кофемашины</td>\n",
       "      <td>b'{\"ru\":\"\\\\u0413\\\\u0435\\\\u0439\\\\u0437\\\\u0435\\\\...</td>\n",
       "    </tr>\n",
       "    <tr>\n",
       "      <th>94108</th>\n",
       "      <td>cc85ecde1f68d3fa6a86f5aa65ef330d1ea4af16eaea7e...</td>\n",
       "      <td>ea369ca3a6b4b18a88f0b68fdc0f3c476b95c7f736b055...</td>\n",
       "      <td>Блендеры</td>\n",
       "      <td>b'{\"ru\":\"\\\\u0411\\\\u043b\\\\u0435\\\\u043d\\\\u0434\\\\...</td>\n",
       "    </tr>\n",
       "    <tr>\n",
       "      <th>32603</th>\n",
       "      <td>f9ee9a97ab9ec2fb6a1ba710b15cbdca581e6ce91d48c8...</td>\n",
       "      <td>0cbfd7dcfba7c08b2893bd2045a407f8ef5b86f9ea6c6e...</td>\n",
       "      <td>Suyuq sovun</td>\n",
       "      <td>b'{\"ru\":\"\\\\u0410\\\\u043d\\\\u0442\\\\u0438\\\\u0431\\\\...</td>\n",
       "    </tr>\n",
       "  </tbody>\n",
       "</table>\n",
       "</div>"
      ],
      "text/plain": [
       "                                              product_id  \\\n",
       "62550  6fc4b4ad986ae1c894d64c637755dbd0af55c5c18ea58d...   \n",
       "70951  ff6824e8aa9eb77ba1a7a13c27dd9a127af7921071c9a0...   \n",
       "15986  5560f79506a7f8b0f2ada8555e1467dad8a7561548aeb0...   \n",
       "94108  cc85ecde1f68d3fa6a86f5aa65ef330d1ea4af16eaea7e...   \n",
       "32603  f9ee9a97ab9ec2fb6a1ba710b15cbdca581e6ce91d48c8...   \n",
       "\n",
       "                                             category_id  category_title  \\\n",
       "62550  5047c52df0613016fb90e7042f93f8981bb6cb5825727c...     Головоломки   \n",
       "70951  480a98886cc4530fd8c1f888ff71fc23213be3d120eba2...  Маски тканевые   \n",
       "15986  76a6e0d29167a15261b5b82424f4ef392f0a2ce49c4a0e...      Кофемашины   \n",
       "94108  ea369ca3a6b4b18a88f0b68fdc0f3c476b95c7f736b055...        Блендеры   \n",
       "32603  0cbfd7dcfba7c08b2893bd2045a407f8ef5b86f9ea6c6e...     Suyuq sovun   \n",
       "\n",
       "                                     product_description  \n",
       "62550  b'{\"ru\":\"\\\\u041c\\\\u0430\\\\u0442\\\\u0435\\\\u043c\\\\...  \n",
       "70951  b'{\"ru\":\"\\\\u041c\\\\u0430\\\\u0441\\\\u043a\\\\u0430 \\...  \n",
       "15986  b'{\"ru\":\"\\\\u0413\\\\u0435\\\\u0439\\\\u0437\\\\u0435\\\\...  \n",
       "94108  b'{\"ru\":\"\\\\u0411\\\\u043b\\\\u0435\\\\u043d\\\\u0434\\\\...  \n",
       "32603  b'{\"ru\":\"\\\\u0410\\\\u043d\\\\u0442\\\\u0438\\\\u0431\\\\...  "
      ]
     },
     "execution_count": 2,
     "metadata": {},
     "output_type": "execute_result"
    }
   ],
   "source": [
    "products_df = pd.read_parquet(PRODUCTS_PATH)\n",
    "products_df.sample(5)"
   ]
  },
  {
   "cell_type": "code",
   "execution_count": 3,
   "metadata": {},
   "outputs": [
    {
     "name": "stdout",
     "output_type": "stream",
     "text": [
      "Шариковый\n"
     ]
    }
   ],
   "source": [
    "bytes_string = b\"\\\\u0428\\\\u0430\\\\u0440\\\\u0438\\\\u043a\\\\u043e\\\\u0432\\\\u044b\\\\u0439\"\n",
    "translated_string = bytes_string.decode('unicode_escape')\n",
    "print(translated_string)\n"
   ]
  },
  {
   "cell_type": "code",
   "execution_count": 19,
   "metadata": {},
   "outputs": [
    {
     "data": {
      "text/plain": [
       "(113713, 4)"
      ]
     },
     "execution_count": 19,
     "metadata": {},
     "output_type": "execute_result"
    }
   ],
   "source": [
    "products_df.shape"
   ]
  },
  {
   "cell_type": "markdown",
   "metadata": {},
   "source": [
    "## Return Reasons"
   ]
  },
  {
   "cell_type": "code",
   "execution_count": 5,
   "metadata": {},
   "outputs": [
    {
     "data": {
      "text/html": [
       "<div>\n",
       "<style scoped>\n",
       "    .dataframe tbody tr th:only-of-type {\n",
       "        vertical-align: middle;\n",
       "    }\n",
       "\n",
       "    .dataframe tbody tr th {\n",
       "        vertical-align: top;\n",
       "    }\n",
       "\n",
       "    .dataframe thead th {\n",
       "        text-align: right;\n",
       "    }\n",
       "</style>\n",
       "<table border=\"1\" class=\"dataframe\">\n",
       "  <thead>\n",
       "    <tr style=\"text-align: right;\">\n",
       "      <th></th>\n",
       "      <th>id</th>\n",
       "      <th>reason</th>\n",
       "    </tr>\n",
       "  </thead>\n",
       "  <tbody>\n",
       "    <tr>\n",
       "      <th>0</th>\n",
       "      <td>1</td>\n",
       "      <td>DEFECTED</td>\n",
       "    </tr>\n",
       "    <tr>\n",
       "      <th>1</th>\n",
       "      <td>2</td>\n",
       "      <td>WRONG_ITEM</td>\n",
       "    </tr>\n",
       "    <tr>\n",
       "      <th>2</th>\n",
       "      <td>3</td>\n",
       "      <td>BAD_QUALITY</td>\n",
       "    </tr>\n",
       "    <tr>\n",
       "      <th>3</th>\n",
       "      <td>4</td>\n",
       "      <td>PHOTO_MISMATCH</td>\n",
       "    </tr>\n",
       "    <tr>\n",
       "      <th>4</th>\n",
       "      <td>5</td>\n",
       "      <td>WRONG_SIZE</td>\n",
       "    </tr>\n",
       "  </tbody>\n",
       "</table>\n",
       "</div>"
      ],
      "text/plain": [
       "   id          reason\n",
       "0   1        DEFECTED\n",
       "1   2      WRONG_ITEM\n",
       "2   3     BAD_QUALITY\n",
       "3   4  PHOTO_MISMATCH\n",
       "4   5      WRONG_SIZE"
      ]
     },
     "execution_count": 5,
     "metadata": {},
     "output_type": "execute_result"
    }
   ],
   "source": [
    "return_reasons_df = pd.read_parquet(RETURN_REASONS_PATH)\n",
    "return_reasons_df.head()"
   ]
  },
  {
   "cell_type": "markdown",
   "metadata": {},
   "source": [
    "## Returns"
   ]
  },
  {
   "cell_type": "code",
   "execution_count": 14,
   "metadata": {},
   "outputs": [
    {
     "data": {
      "text/html": [
       "<div>\n",
       "<style scoped>\n",
       "    .dataframe tbody tr th:only-of-type {\n",
       "        vertical-align: middle;\n",
       "    }\n",
       "\n",
       "    .dataframe tbody tr th {\n",
       "        vertical-align: top;\n",
       "    }\n",
       "\n",
       "    .dataframe thead th {\n",
       "        text-align: right;\n",
       "    }\n",
       "</style>\n",
       "<table border=\"1\" class=\"dataframe\">\n",
       "  <thead>\n",
       "    <tr style=\"text-align: right;\">\n",
       "      <th></th>\n",
       "      <th>id</th>\n",
       "      <th>product_id</th>\n",
       "      <th>cause</th>\n",
       "      <th>comment</th>\n",
       "      <th>date_created</th>\n",
       "      <th>order_item_id</th>\n",
       "      <th>customer_id</th>\n",
       "      <th>purchase_price</th>\n",
       "    </tr>\n",
       "    <tr>\n",
       "      <th>index</th>\n",
       "      <th></th>\n",
       "      <th></th>\n",
       "      <th></th>\n",
       "      <th></th>\n",
       "      <th></th>\n",
       "      <th></th>\n",
       "      <th></th>\n",
       "      <th></th>\n",
       "    </tr>\n",
       "  </thead>\n",
       "  <tbody>\n",
       "    <tr>\n",
       "      <th>8001</th>\n",
       "      <td>139046</td>\n",
       "      <td>4ba285c8861d2d4fe24c868f7e317fe3eaefe9c7775b99...</td>\n",
       "      <td>DEFECTED</td>\n",
       "      <td>сломанная ручка</td>\n",
       "      <td>2023-02-13 08:33:47.671</td>\n",
       "      <td>1559733</td>\n",
       "      <td>09d3f955396fcff4901ae48ab4e57422e5b19af696468f...</td>\n",
       "      <td>107000</td>\n",
       "    </tr>\n",
       "    <tr>\n",
       "      <th>213484</th>\n",
       "      <td>2690764</td>\n",
       "      <td>f31059d1bec85663f5b531b97f4877fdbb6df097815e83...</td>\n",
       "      <td>WRONG_SIZE</td>\n",
       "      <td>Маленький</td>\n",
       "      <td>2023-10-17 08:43:57.447</td>\n",
       "      <td>19521667</td>\n",
       "      <td>a3e3a7e4e0ea7793b0b9d2474be1cf9c08648718f0e1a9...</td>\n",
       "      <td>30000</td>\n",
       "    </tr>\n",
       "    <tr>\n",
       "      <th>217676</th>\n",
       "      <td>2750424</td>\n",
       "      <td>2764d9356a5d0280e537dd5676aa8c482f033db49fc6d1...</td>\n",
       "      <td>WRONG_SIZE</td>\n",
       "      <td></td>\n",
       "      <td>2023-10-20 12:14:53.982</td>\n",
       "      <td>19487868</td>\n",
       "      <td>a408ec2ce4b1bcc618e24a4ea4171b92845139559e2d55...</td>\n",
       "      <td>10000</td>\n",
       "    </tr>\n",
       "    <tr>\n",
       "      <th>216930</th>\n",
       "      <td>2734971</td>\n",
       "      <td>abd1c15d6c31db536740fb5970d5b4e2f10f0f9b3937d0...</td>\n",
       "      <td>DEFECTED</td>\n",
       "      <td>1</td>\n",
       "      <td>2023-10-19 14:45:49.160</td>\n",
       "      <td>19505514</td>\n",
       "      <td>36f2b2f2f78ce8688f859d723caacfdd59f35db19a3df8...</td>\n",
       "      <td>180000</td>\n",
       "    </tr>\n",
       "    <tr>\n",
       "      <th>181444</th>\n",
       "      <td>2226671</td>\n",
       "      <td>e0dd5b56d48fe9e8046724ed3f02eaba5c5242cf45e8c1...</td>\n",
       "      <td>DEFECTED</td>\n",
       "      <td>не держит температуру и протекает с бока</td>\n",
       "      <td>2023-09-22 10:02:41.722</td>\n",
       "      <td>16538917</td>\n",
       "      <td>01983fc88585852a208e0d46c470fce3c4024dd26d81f7...</td>\n",
       "      <td>100000</td>\n",
       "    </tr>\n",
       "  </tbody>\n",
       "</table>\n",
       "</div>"
      ],
      "text/plain": [
       "             id                                         product_id  \\\n",
       "index                                                                \n",
       "8001     139046  4ba285c8861d2d4fe24c868f7e317fe3eaefe9c7775b99...   \n",
       "213484  2690764  f31059d1bec85663f5b531b97f4877fdbb6df097815e83...   \n",
       "217676  2750424  2764d9356a5d0280e537dd5676aa8c482f033db49fc6d1...   \n",
       "216930  2734971  abd1c15d6c31db536740fb5970d5b4e2f10f0f9b3937d0...   \n",
       "181444  2226671  e0dd5b56d48fe9e8046724ed3f02eaba5c5242cf45e8c1...   \n",
       "\n",
       "             cause                                    comment  \\\n",
       "index                                                           \n",
       "8001      DEFECTED                            сломанная ручка   \n",
       "213484  WRONG_SIZE                                  Маленький   \n",
       "217676  WRONG_SIZE                                              \n",
       "216930    DEFECTED                                          1   \n",
       "181444    DEFECTED  не держит температуру и протекает с бока    \n",
       "\n",
       "                  date_created  order_item_id  \\\n",
       "index                                           \n",
       "8001   2023-02-13 08:33:47.671        1559733   \n",
       "213484 2023-10-17 08:43:57.447       19521667   \n",
       "217676 2023-10-20 12:14:53.982       19487868   \n",
       "216930 2023-10-19 14:45:49.160       19505514   \n",
       "181444 2023-09-22 10:02:41.722       16538917   \n",
       "\n",
       "                                              customer_id  purchase_price  \n",
       "index                                                                      \n",
       "8001    09d3f955396fcff4901ae48ab4e57422e5b19af696468f...          107000  \n",
       "213484  a3e3a7e4e0ea7793b0b9d2474be1cf9c08648718f0e1a9...           30000  \n",
       "217676  a408ec2ce4b1bcc618e24a4ea4171b92845139559e2d55...           10000  \n",
       "216930  36f2b2f2f78ce8688f859d723caacfdd59f35db19a3df8...          180000  \n",
       "181444  01983fc88585852a208e0d46c470fce3c4024dd26d81f7...          100000  "
      ]
     },
     "execution_count": 14,
     "metadata": {},
     "output_type": "execute_result"
    }
   ],
   "source": [
    "returns_df = pd.read_parquet(RETURNS_PATH)\n",
    "returns_df.sample(5)"
   ]
  },
  {
   "cell_type": "code",
   "execution_count": 25,
   "metadata": {},
   "outputs": [
    {
     "data": {
      "text/plain": [
       "(80588,)"
      ]
     },
     "execution_count": 25,
     "metadata": {},
     "output_type": "execute_result"
    }
   ],
   "source": [
    "returns_df.product_id.unique().shape"
   ]
  },
  {
   "cell_type": "markdown",
   "metadata": {},
   "source": [
    "## Reviews"
   ]
  },
  {
   "cell_type": "code",
   "execution_count": 17,
   "metadata": {},
   "outputs": [
    {
     "data": {
      "text/html": [
       "<div>\n",
       "<style scoped>\n",
       "    .dataframe tbody tr th:only-of-type {\n",
       "        vertical-align: middle;\n",
       "    }\n",
       "\n",
       "    .dataframe tbody tr th {\n",
       "        vertical-align: top;\n",
       "    }\n",
       "\n",
       "    .dataframe thead th {\n",
       "        text-align: right;\n",
       "    }\n",
       "</style>\n",
       "<table border=\"1\" class=\"dataframe\">\n",
       "  <thead>\n",
       "    <tr style=\"text-align: right;\">\n",
       "      <th></th>\n",
       "      <th>order_item_id</th>\n",
       "      <th>product_id</th>\n",
       "      <th>customer_id</th>\n",
       "      <th>review_text</th>\n",
       "      <th>shop_id</th>\n",
       "      <th>rating</th>\n",
       "      <th>date_created</th>\n",
       "    </tr>\n",
       "  </thead>\n",
       "  <tbody>\n",
       "    <tr>\n",
       "      <th>669994</th>\n",
       "      <td>20544279</td>\n",
       "      <td>e0e9a2d2bb6ddfb6cc7865d1785f34451ca7dda9f32b0d...</td>\n",
       "      <td>74ecbcd551d50566ab4f43a795b435a4fae61e81b38f41...</td>\n",
       "      <td></td>\n",
       "      <td>dadac7208d25d80e39b1fc3ef9753063e33bd474c706fd...</td>\n",
       "      <td>5</td>\n",
       "      <td>2023-10-27 10:01:37.477</td>\n",
       "    </tr>\n",
       "    <tr>\n",
       "      <th>927319</th>\n",
       "      <td>24313959</td>\n",
       "      <td>d30b821754f3f46aa729bebb4d835881ee7cff9a857d27...</td>\n",
       "      <td>3f966053b0a6c44ff74d2cafa8194b25b007fa06b764d3...</td>\n",
       "      <td>tôgrisini aytsam lab bôyoq uncha yoqmadi olgan...</td>\n",
       "      <td>aa1afcfd3a19edd5b93b95bdab4decab5a56bea75872ef...</td>\n",
       "      <td>1</td>\n",
       "      <td>2023-11-27 11:38:21.980</td>\n",
       "    </tr>\n",
       "    <tr>\n",
       "      <th>706483</th>\n",
       "      <td>18697955</td>\n",
       "      <td>0c2f75bdf9c3ca29632764b8ef42299bf8f1a708ccc0f8...</td>\n",
       "      <td>2b08fc1cd729fd468721a09377c7e86c9c2f86678a637b...</td>\n",
       "      <td>классная незаменимая вещь.</td>\n",
       "      <td>ecac903ea62dc1d5446a88330af0a17ce89c7787e5aaf4...</td>\n",
       "      <td>5</td>\n",
       "      <td>2023-11-01 16:37:03.900</td>\n",
       "    </tr>\n",
       "    <tr>\n",
       "      <th>1198415</th>\n",
       "      <td>27732983</td>\n",
       "      <td>43779bdfe9b4914b52a7596d02ce406f28de9fabaa1af9...</td>\n",
       "      <td>c8aade919a7da5a368576270cd679099f0916405fec8f0...</td>\n",
       "      <td>bu ajoyib Sifat zòr Raxmat</td>\n",
       "      <td>fea03f0b0237ebd3578b4e6ed17a1df24d7dfc7693ebb4...</td>\n",
       "      <td>5</td>\n",
       "      <td>2023-12-22 08:33:19.232</td>\n",
       "    </tr>\n",
       "    <tr>\n",
       "      <th>165989</th>\n",
       "      <td>6549611</td>\n",
       "      <td>17c0a70c361beaf824415c4239d87bac4423b0b322b636...</td>\n",
       "      <td>70a5b718895cbe4866ad62cedff9e3314b480864092e40...</td>\n",
       "      <td>хорошие, удобные губки</td>\n",
       "      <td>10f6b6ad5e069f3b97acb8979dc276b9a1c04beb48dd9f...</td>\n",
       "      <td>4</td>\n",
       "      <td>2023-06-08 08:34:51.955</td>\n",
       "    </tr>\n",
       "  </tbody>\n",
       "</table>\n",
       "</div>"
      ],
      "text/plain": [
       "         order_item_id                                         product_id  \\\n",
       "669994        20544279  e0e9a2d2bb6ddfb6cc7865d1785f34451ca7dda9f32b0d...   \n",
       "927319        24313959  d30b821754f3f46aa729bebb4d835881ee7cff9a857d27...   \n",
       "706483        18697955  0c2f75bdf9c3ca29632764b8ef42299bf8f1a708ccc0f8...   \n",
       "1198415       27732983  43779bdfe9b4914b52a7596d02ce406f28de9fabaa1af9...   \n",
       "165989         6549611  17c0a70c361beaf824415c4239d87bac4423b0b322b636...   \n",
       "\n",
       "                                               customer_id  \\\n",
       "669994   74ecbcd551d50566ab4f43a795b435a4fae61e81b38f41...   \n",
       "927319   3f966053b0a6c44ff74d2cafa8194b25b007fa06b764d3...   \n",
       "706483   2b08fc1cd729fd468721a09377c7e86c9c2f86678a637b...   \n",
       "1198415  c8aade919a7da5a368576270cd679099f0916405fec8f0...   \n",
       "165989   70a5b718895cbe4866ad62cedff9e3314b480864092e40...   \n",
       "\n",
       "                                               review_text  \\\n",
       "669994                                                       \n",
       "927319   tôgrisini aytsam lab bôyoq uncha yoqmadi olgan...   \n",
       "706483                          классная незаменимая вещь.   \n",
       "1198415                         bu ajoyib Sifat zòr Raxmat   \n",
       "165989                              хорошие, удобные губки   \n",
       "\n",
       "                                                   shop_id  rating  \\\n",
       "669994   dadac7208d25d80e39b1fc3ef9753063e33bd474c706fd...       5   \n",
       "927319   aa1afcfd3a19edd5b93b95bdab4decab5a56bea75872ef...       1   \n",
       "706483   ecac903ea62dc1d5446a88330af0a17ce89c7787e5aaf4...       5   \n",
       "1198415  fea03f0b0237ebd3578b4e6ed17a1df24d7dfc7693ebb4...       5   \n",
       "165989   10f6b6ad5e069f3b97acb8979dc276b9a1c04beb48dd9f...       4   \n",
       "\n",
       "                   date_created  \n",
       "669994  2023-10-27 10:01:37.477  \n",
       "927319  2023-11-27 11:38:21.980  \n",
       "706483  2023-11-01 16:37:03.900  \n",
       "1198415 2023-12-22 08:33:19.232  \n",
       "165989  2023-06-08 08:34:51.955  "
      ]
     },
     "execution_count": 17,
     "metadata": {},
     "output_type": "execute_result"
    }
   ],
   "source": [
    "reviews_df = pd.read_parquet(REVIEWS_PATH)\n",
    "reviews_df.sample(5)"
   ]
  },
  {
   "cell_type": "code",
   "execution_count": 26,
   "metadata": {},
   "outputs": [
    {
     "data": {
      "text/plain": [
       "(79137,)"
      ]
     },
     "execution_count": 26,
     "metadata": {},
     "output_type": "execute_result"
    }
   ],
   "source": [
    "reviews_df.product_id.unique().shape"
   ]
  },
  {
   "cell_type": "markdown",
   "metadata": {},
   "source": [
    "## Test"
   ]
  },
  {
   "cell_type": "code",
   "execution_count": 8,
   "metadata": {},
   "outputs": [
    {
     "data": {
      "text/html": [
       "<div>\n",
       "<style scoped>\n",
       "    .dataframe tbody tr th:only-of-type {\n",
       "        vertical-align: middle;\n",
       "    }\n",
       "\n",
       "    .dataframe tbody tr th {\n",
       "        vertical-align: top;\n",
       "    }\n",
       "\n",
       "    .dataframe thead th {\n",
       "        text-align: right;\n",
       "    }\n",
       "</style>\n",
       "<table border=\"1\" class=\"dataframe\">\n",
       "  <thead>\n",
       "    <tr style=\"text-align: right;\">\n",
       "      <th></th>\n",
       "      <th>id</th>\n",
       "      <th>order_item_id</th>\n",
       "      <th>product_id</th>\n",
       "      <th>customer_id</th>\n",
       "      <th>purchase_price</th>\n",
       "    </tr>\n",
       "  </thead>\n",
       "  <tbody>\n",
       "    <tr>\n",
       "      <th>34959</th>\n",
       "      <td>4383873</td>\n",
       "      <td>30138418</td>\n",
       "      <td>ea517b9879607ad8624b956de69a1d0cdabfb7a1ec7d9f...</td>\n",
       "      <td>0d99e6501d03025fee0f66dc552ee5ba7a9c434b4e9348...</td>\n",
       "      <td>179000</td>\n",
       "    </tr>\n",
       "    <tr>\n",
       "      <th>30444</th>\n",
       "      <td>4290806</td>\n",
       "      <td>29714359</td>\n",
       "      <td>44e7630570d0386a09bc5dddaf3d428723bb3d2b6525f1...</td>\n",
       "      <td>2f176bc381c3157ec8f2141c38ab6a3ba5629be67dc033...</td>\n",
       "      <td>19000</td>\n",
       "    </tr>\n",
       "    <tr>\n",
       "      <th>69274</th>\n",
       "      <td>4922147</td>\n",
       "      <td>33466448</td>\n",
       "      <td>69625bff836378aa3bd6aa98adce243bb2ebc473c1a31b...</td>\n",
       "      <td>f9ef462367e513e1ff0e544e5cc40ea47556b7f54ec799...</td>\n",
       "      <td>91000</td>\n",
       "    </tr>\n",
       "    <tr>\n",
       "      <th>33612</th>\n",
       "      <td>4341994</td>\n",
       "      <td>29447176</td>\n",
       "      <td>75c21786aefe460edbb3e087684aaee73a3777ee73883a...</td>\n",
       "      <td>69bcf1aa9c89ebfae1196e916e653eac089023d71e5308...</td>\n",
       "      <td>79000</td>\n",
       "    </tr>\n",
       "    <tr>\n",
       "      <th>49487</th>\n",
       "      <td>4626112</td>\n",
       "      <td>31536912</td>\n",
       "      <td>e4313254cbf6b3efa273f324005a53657ce5a8f191185b...</td>\n",
       "      <td>e36e7ec946a947c2ea1c282aadeb7e555c7dde5f8059bd...</td>\n",
       "      <td>89000</td>\n",
       "    </tr>\n",
       "  </tbody>\n",
       "</table>\n",
       "</div>"
      ],
      "text/plain": [
       "            id  order_item_id  \\\n",
       "34959  4383873       30138418   \n",
       "30444  4290806       29714359   \n",
       "69274  4922147       33466448   \n",
       "33612  4341994       29447176   \n",
       "49487  4626112       31536912   \n",
       "\n",
       "                                              product_id  \\\n",
       "34959  ea517b9879607ad8624b956de69a1d0cdabfb7a1ec7d9f...   \n",
       "30444  44e7630570d0386a09bc5dddaf3d428723bb3d2b6525f1...   \n",
       "69274  69625bff836378aa3bd6aa98adce243bb2ebc473c1a31b...   \n",
       "33612  75c21786aefe460edbb3e087684aaee73a3777ee73883a...   \n",
       "49487  e4313254cbf6b3efa273f324005a53657ce5a8f191185b...   \n",
       "\n",
       "                                             customer_id  purchase_price  \n",
       "34959  0d99e6501d03025fee0f66dc552ee5ba7a9c434b4e9348...          179000  \n",
       "30444  2f176bc381c3157ec8f2141c38ab6a3ba5629be67dc033...           19000  \n",
       "69274  f9ef462367e513e1ff0e544e5cc40ea47556b7f54ec799...           91000  \n",
       "33612  69bcf1aa9c89ebfae1196e916e653eac089023d71e5308...           79000  \n",
       "49487  e36e7ec946a947c2ea1c282aadeb7e555c7dde5f8059bd...           89000  "
      ]
     },
     "execution_count": 8,
     "metadata": {},
     "output_type": "execute_result"
    }
   ],
   "source": [
    "test_df = pd.read_parquet(TEST_PATH)\n",
    "test_df.sample(5)"
   ]
  },
  {
   "cell_type": "code",
   "execution_count": 32,
   "metadata": {},
   "outputs": [
    {
     "data": {
      "text/plain": [
       "(71323, 5)"
      ]
     },
     "execution_count": 32,
     "metadata": {},
     "output_type": "execute_result"
    }
   ],
   "source": [
    "test_df.shape"
   ]
  },
  {
   "cell_type": "code",
   "execution_count": 27,
   "metadata": {},
   "outputs": [
    {
     "data": {
      "text/plain": [
       "(27455,)"
      ]
     },
     "execution_count": 27,
     "metadata": {},
     "output_type": "execute_result"
    }
   ],
   "source": [
    "test_df.product_id.unique().shape"
   ]
  },
  {
   "cell_type": "code",
   "execution_count": 35,
   "metadata": {},
   "outputs": [
    {
     "data": {
      "text/plain": [
       "23156"
      ]
     },
     "execution_count": 35,
     "metadata": {},
     "output_type": "execute_result"
    }
   ],
   "source": [
    "len(set(test_df.product_id.unique()) & set(reviews_df.product_id))"
   ]
  },
  {
   "cell_type": "code",
   "execution_count": null,
   "metadata": {},
   "outputs": [],
   "source": [
    "test_df.isin"
   ]
  }
 ],
 "metadata": {
  "kernelspec": {
   "display_name": "Python 3",
   "language": "python",
   "name": "python3"
  },
  "language_info": {
   "codemirror_mode": {
    "name": "ipython",
    "version": 3
   },
   "file_extension": ".py",
   "mimetype": "text/x-python",
   "name": "python",
   "nbconvert_exporter": "python",
   "pygments_lexer": "ipython3",
   "version": "3.11.5"
  },
  "orig_nbformat": 4
 },
 "nbformat": 4,
 "nbformat_minor": 2
}
