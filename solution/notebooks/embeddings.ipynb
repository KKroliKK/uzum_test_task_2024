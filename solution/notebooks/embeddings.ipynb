{
 "cells": [
  {
   "cell_type": "code",
   "execution_count": 1,
   "metadata": {},
   "outputs": [],
   "source": [
    "import os\n",
    "import pickle\n",
    "\n",
    "import pandas as pd\n",
    "import numpy as np\n",
    "\n",
    "os.chdir(os.path.join(\"..\", \"..\"))\n",
    "\n",
    "from solution.constants import (\n",
    "    REVIEWS_PATH,\n",
    "    PRODUCTS_PATH,\n",
    "    RETURN_REASONS_PATH,\n",
    "    RETURNS_PATH,\n",
    "    TEST_PATH,\n",
    "    BAD_REVIEWS_GROUPED_BY_PRODUCT_ID,\n",
    ")\n",
    "from solution.fasttext import embed_sentences"
   ]
  },
  {
   "cell_type": "markdown",
   "metadata": {},
   "source": [
    "# Imports"
   ]
  },
  {
   "cell_type": "markdown",
   "metadata": {},
   "source": [
    "# Embdeddings"
   ]
  },
  {
   "cell_type": "markdown",
   "metadata": {},
   "source": [
    "## Reviews"
   ]
  },
  {
   "cell_type": "code",
   "execution_count": 2,
   "metadata": {},
   "outputs": [
    {
     "data": {
      "text/html": [
       "<div>\n",
       "<style scoped>\n",
       "    .dataframe tbody tr th:only-of-type {\n",
       "        vertical-align: middle;\n",
       "    }\n",
       "\n",
       "    .dataframe tbody tr th {\n",
       "        vertical-align: top;\n",
       "    }\n",
       "\n",
       "    .dataframe thead th {\n",
       "        text-align: right;\n",
       "    }\n",
       "</style>\n",
       "<table border=\"1\" class=\"dataframe\">\n",
       "  <thead>\n",
       "    <tr style=\"text-align: right;\">\n",
       "      <th></th>\n",
       "      <th>order_item_id</th>\n",
       "      <th>product_id</th>\n",
       "      <th>customer_id</th>\n",
       "      <th>review_text</th>\n",
       "      <th>shop_id</th>\n",
       "      <th>rating</th>\n",
       "      <th>date_created</th>\n",
       "    </tr>\n",
       "  </thead>\n",
       "  <tbody>\n",
       "    <tr>\n",
       "      <th>0</th>\n",
       "      <td>19068657</td>\n",
       "      <td>641695ab1f06465947d1e4e26f61ed308145dce718d9b6...</td>\n",
       "      <td>0aaefdb4bd01799d678f7fcd453e23c597804eb006f1ce...</td>\n",
       "      <td>товар потерян</td>\n",
       "      <td>c2f61742e5f0ef0a74c5fcbeff7ff659def91bf4b5f1e1...</td>\n",
       "      <td>1</td>\n",
       "      <td>2023-10-17 17:26:42.874</td>\n",
       "    </tr>\n",
       "    <tr>\n",
       "      <th>1</th>\n",
       "      <td>11130626</td>\n",
       "      <td>2c0818e03896a3e27fd8ec01ba9d7ae80d97673575a847...</td>\n",
       "      <td>851513a761b89239303515254d0e9c22a8474dd2df60b8...</td>\n",
       "      <td></td>\n",
       "      <td>757db91a80964d58a2b0d26bffd641bcbe142aae4f7f47...</td>\n",
       "      <td>5</td>\n",
       "      <td>2023-07-27 10:06:40.711</td>\n",
       "    </tr>\n",
       "    <tr>\n",
       "      <th>2</th>\n",
       "      <td>8992153</td>\n",
       "      <td>d00a0a981e5618c4f96802e79c205ef2175b141edff368...</td>\n",
       "      <td>96659e77ab5e9b52ecbf110eed661c3fe742fc42443d50...</td>\n",
       "      <td></td>\n",
       "      <td>8f0f97e140e126a4404a09eb1e14a53b7c742701c4290a...</td>\n",
       "      <td>5</td>\n",
       "      <td>2023-07-03 14:47:59.316</td>\n",
       "    </tr>\n",
       "    <tr>\n",
       "      <th>3</th>\n",
       "      <td>11078898</td>\n",
       "      <td>d0d9bad11fa6fedcf5c699055137a36f4c4c81d722b5fd...</td>\n",
       "      <td>321667e5d0ada2fa7f2356076f88a3848e596cde7bd120...</td>\n",
       "      <td>Rahmat, juda yoqdi!</td>\n",
       "      <td>61182f39851829ca78c919a83ecbfa045fc0686bff16d0...</td>\n",
       "      <td>5</td>\n",
       "      <td>2023-07-30 12:26:59.864</td>\n",
       "    </tr>\n",
       "    <tr>\n",
       "      <th>4</th>\n",
       "      <td>32080499</td>\n",
       "      <td>4edd99b2e2a203a18cf24b6a2b134833ef1f74cf1940c0...</td>\n",
       "      <td>d67c451b69c7f706cedf6d4a87f1180ea62acd57c94a29...</td>\n",
       "      <td>16гб  работает хорошо</td>\n",
       "      <td>02cca3803b564ede11ccf9f303c9910b39c532061e7a8c...</td>\n",
       "      <td>5</td>\n",
       "      <td>2024-01-19 06:02:57.971</td>\n",
       "    </tr>\n",
       "  </tbody>\n",
       "</table>\n",
       "</div>"
      ],
      "text/plain": [
       "   order_item_id                                         product_id  \\\n",
       "0       19068657  641695ab1f06465947d1e4e26f61ed308145dce718d9b6...   \n",
       "1       11130626  2c0818e03896a3e27fd8ec01ba9d7ae80d97673575a847...   \n",
       "2        8992153  d00a0a981e5618c4f96802e79c205ef2175b141edff368...   \n",
       "3       11078898  d0d9bad11fa6fedcf5c699055137a36f4c4c81d722b5fd...   \n",
       "4       32080499  4edd99b2e2a203a18cf24b6a2b134833ef1f74cf1940c0...   \n",
       "\n",
       "                                         customer_id            review_text  \\\n",
       "0  0aaefdb4bd01799d678f7fcd453e23c597804eb006f1ce...          товар потерян   \n",
       "1  851513a761b89239303515254d0e9c22a8474dd2df60b8...                          \n",
       "2  96659e77ab5e9b52ecbf110eed661c3fe742fc42443d50...                          \n",
       "3  321667e5d0ada2fa7f2356076f88a3848e596cde7bd120...    Rahmat, juda yoqdi!   \n",
       "4  d67c451b69c7f706cedf6d4a87f1180ea62acd57c94a29...  16гб  работает хорошо   \n",
       "\n",
       "                                             shop_id  rating  \\\n",
       "0  c2f61742e5f0ef0a74c5fcbeff7ff659def91bf4b5f1e1...       1   \n",
       "1  757db91a80964d58a2b0d26bffd641bcbe142aae4f7f47...       5   \n",
       "2  8f0f97e140e126a4404a09eb1e14a53b7c742701c4290a...       5   \n",
       "3  61182f39851829ca78c919a83ecbfa045fc0686bff16d0...       5   \n",
       "4  02cca3803b564ede11ccf9f303c9910b39c532061e7a8c...       5   \n",
       "\n",
       "             date_created  \n",
       "0 2023-10-17 17:26:42.874  \n",
       "1 2023-07-27 10:06:40.711  \n",
       "2 2023-07-03 14:47:59.316  \n",
       "3 2023-07-30 12:26:59.864  \n",
       "4 2024-01-19 06:02:57.971  "
      ]
     },
     "execution_count": 2,
     "metadata": {},
     "output_type": "execute_result"
    }
   ],
   "source": [
    "reviews_df = pd.read_parquet(REVIEWS_PATH)\n",
    "reviews_df.head()"
   ]
  },
  {
   "cell_type": "markdown",
   "metadata": {},
   "source": [
    "### Bad reviews"
   ]
  },
  {
   "cell_type": "code",
   "execution_count": 3,
   "metadata": {},
   "outputs": [
    {
     "data": {
      "text/html": [
       "<div>\n",
       "<style scoped>\n",
       "    .dataframe tbody tr th:only-of-type {\n",
       "        vertical-align: middle;\n",
       "    }\n",
       "\n",
       "    .dataframe tbody tr th {\n",
       "        vertical-align: top;\n",
       "    }\n",
       "\n",
       "    .dataframe thead th {\n",
       "        text-align: right;\n",
       "    }\n",
       "</style>\n",
       "<table border=\"1\" class=\"dataframe\">\n",
       "  <thead>\n",
       "    <tr style=\"text-align: right;\">\n",
       "      <th></th>\n",
       "      <th>order_item_id</th>\n",
       "      <th>product_id</th>\n",
       "      <th>customer_id</th>\n",
       "      <th>review_text</th>\n",
       "      <th>shop_id</th>\n",
       "      <th>rating</th>\n",
       "      <th>date_created</th>\n",
       "    </tr>\n",
       "  </thead>\n",
       "  <tbody>\n",
       "    <tr>\n",
       "      <th>0</th>\n",
       "      <td>19068657</td>\n",
       "      <td>641695ab1f06465947d1e4e26f61ed308145dce718d9b6...</td>\n",
       "      <td>0aaefdb4bd01799d678f7fcd453e23c597804eb006f1ce...</td>\n",
       "      <td>товар потерян</td>\n",
       "      <td>c2f61742e5f0ef0a74c5fcbeff7ff659def91bf4b5f1e1...</td>\n",
       "      <td>1</td>\n",
       "      <td>2023-10-17 17:26:42.874</td>\n",
       "    </tr>\n",
       "    <tr>\n",
       "      <th>1</th>\n",
       "      <td>8150477</td>\n",
       "      <td>bdd57b3266b0681ceeae2c2110a475050d264f582bb8e7...</td>\n",
       "      <td>4e3c1775f2acdc861bf51c95256546df3d6731305389de...</td>\n",
       "      <td>шланг тешик экан . маслахат бермайман</td>\n",
       "      <td>77523aa0395b6ee089984c28fd543755244df3ba6adba2...</td>\n",
       "      <td>1</td>\n",
       "      <td>2023-06-23 09:30:32.777</td>\n",
       "    </tr>\n",
       "    <tr>\n",
       "      <th>2</th>\n",
       "      <td>1912117</td>\n",
       "      <td>78499f983a337e22849e3106844923f547858d69fe3e73...</td>\n",
       "      <td>bfb208bd78f18d8af0ea504e0be0da2e4f77f70f1c5c32...</td>\n",
       "      <td>yaxshi ekan.</td>\n",
       "      <td>784818021864dcfd07659616848650cd479d6efe957ad3...</td>\n",
       "      <td>3</td>\n",
       "      <td>2023-02-26 06:38:21.852</td>\n",
       "    </tr>\n",
       "  </tbody>\n",
       "</table>\n",
       "</div>"
      ],
      "text/plain": [
       "   order_item_id                                         product_id  \\\n",
       "0       19068657  641695ab1f06465947d1e4e26f61ed308145dce718d9b6...   \n",
       "1        8150477  bdd57b3266b0681ceeae2c2110a475050d264f582bb8e7...   \n",
       "2        1912117  78499f983a337e22849e3106844923f547858d69fe3e73...   \n",
       "\n",
       "                                         customer_id  \\\n",
       "0  0aaefdb4bd01799d678f7fcd453e23c597804eb006f1ce...   \n",
       "1  4e3c1775f2acdc861bf51c95256546df3d6731305389de...   \n",
       "2  bfb208bd78f18d8af0ea504e0be0da2e4f77f70f1c5c32...   \n",
       "\n",
       "                             review_text  \\\n",
       "0                          товар потерян   \n",
       "1  шланг тешик экан . маслахат бермайман   \n",
       "2                           yaxshi ekan.   \n",
       "\n",
       "                                             shop_id  rating  \\\n",
       "0  c2f61742e5f0ef0a74c5fcbeff7ff659def91bf4b5f1e1...       1   \n",
       "1  77523aa0395b6ee089984c28fd543755244df3ba6adba2...       1   \n",
       "2  784818021864dcfd07659616848650cd479d6efe957ad3...       3   \n",
       "\n",
       "             date_created  \n",
       "0 2023-10-17 17:26:42.874  \n",
       "1 2023-06-23 09:30:32.777  \n",
       "2 2023-02-26 06:38:21.852  "
      ]
     },
     "execution_count": 3,
     "metadata": {},
     "output_type": "execute_result"
    }
   ],
   "source": [
    "bad_reviews_df = reviews_df[reviews_df.rating < 4].reset_index(drop=True)\n",
    "bad_reviews_df.head(3)"
   ]
  },
  {
   "cell_type": "code",
   "execution_count": 4,
   "metadata": {},
   "outputs": [
    {
     "data": {
      "text/plain": [
       "(183726, 7)"
      ]
     },
     "execution_count": 4,
     "metadata": {},
     "output_type": "execute_result"
    }
   ],
   "source": [
    "bad_reviews_df.shape"
   ]
  },
  {
   "cell_type": "code",
   "execution_count": 5,
   "metadata": {},
   "outputs": [
    {
     "data": {
      "text/plain": [
       "0"
      ]
     },
     "execution_count": 5,
     "metadata": {},
     "output_type": "execute_result"
    }
   ],
   "source": [
    "sum(bad_reviews_df.review_text.isnull())"
   ]
  },
  {
   "cell_type": "code",
   "execution_count": 6,
   "metadata": {},
   "outputs": [],
   "source": [
    "bad_reviews_grouped_by_product_id = bad_reviews_df.groupby(\"product_id\").indices"
   ]
  },
  {
   "cell_type": "code",
   "execution_count": 7,
   "metadata": {},
   "outputs": [
    {
     "data": {
      "application/vnd.jupyter.widget-view+json": {
       "model_id": "6592949bccd04925b1c1b1b1c1d28362",
       "version_major": 2,
       "version_minor": 0
      },
      "text/plain": [
       "  0%|          | 0/183726 [00:00<?, ?it/s]"
      ]
     },
     "metadata": {},
     "output_type": "display_data"
    }
   ],
   "source": [
    "reviews_embs = embed_sentences(bad_reviews_df.review_text)"
   ]
  },
  {
   "cell_type": "code",
   "execution_count": 8,
   "metadata": {},
   "outputs": [
    {
     "data": {
      "text/plain": [
       "(183726, 300)"
      ]
     },
     "execution_count": 8,
     "metadata": {},
     "output_type": "execute_result"
    }
   ],
   "source": [
    "reviews_embs.shape"
   ]
  },
  {
   "cell_type": "code",
   "execution_count": 9,
   "metadata": {},
   "outputs": [],
   "source": [
    "bad_reviews_embs_by_id = {}\n",
    "\n",
    "for product_id, review_indeces in bad_reviews_grouped_by_product_id.items():\n",
    "    embs = reviews_embs[review_indeces]\n",
    "    product_emb = np.mean(embs, axis=0)\n",
    "\n",
    "    bad_reviews_embs_by_id[product_id] = product_emb"
   ]
  },
  {
   "cell_type": "code",
   "execution_count": 10,
   "metadata": {},
   "outputs": [],
   "source": [
    "with open(BAD_REVIEWS_GROUPED_BY_PRODUCT_ID, 'wb') as f:\n",
    "    pickle.dump(bad_reviews_embs_by_id, f)"
   ]
  }
 ],
 "metadata": {
  "kernelspec": {
   "display_name": "base",
   "language": "python",
   "name": "python3"
  },
  "language_info": {
   "codemirror_mode": {
    "name": "ipython",
    "version": 3
   },
   "file_extension": ".py",
   "mimetype": "text/x-python",
   "name": "python",
   "nbconvert_exporter": "python",
   "pygments_lexer": "ipython3",
   "version": "3.11.5"
  },
  "orig_nbformat": 4
 },
 "nbformat": 4,
 "nbformat_minor": 2
}
